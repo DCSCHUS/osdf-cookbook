{
 "cells": [
  {
   "cell_type": "markdown",
   "metadata": {},
   "source": [
    "# Project Pythia Notebook Template"
   ]
  },
  {
   "cell_type": "markdown",
   "metadata": {},
   "source": [
    "Let's start here! If you can directly link to an image relevant to your notebook, such as [canonical logos](https://github.com/numpy/numpy/blob/main/doc/source/_static/numpylogo.svg), do so here at the top of your notebook. You can do this with MyST Markdown syntax, outlined in [this MyST guide](https://mystmd.org/guide/figures), or you edit this cell to see a demonstration. **Be sure to include `alt` text for any embedded images to make your content more accessible.**\n",
    "\n",
    "```{image} ../thumbnails/thumbnail.png\n",
    ":alt: Project Pythia logo\n",
    ":width: 200px\n",
    "```"
   ]
  },
  {
   "cell_type": "markdown",
   "metadata": {},
   "source": [
    "Next, title your notebook appropriately with a top-level Markdown header, `#` (see the very first cell above). Do not use this level header anywhere else in the notebook. Our book build process will use this title in the navbar, table of contents, etc. Keep it short, keep it descriptive. \n",
    "\n",
    "Follow this with a `---` cell to visually distinguish the transition to the prerequisites section."
   ]
  },
  {
   "cell_type": "markdown",
   "metadata": {},
   "source": [
    "---"
   ]
  },
  {
   "cell_type": "markdown",
   "metadata": {},
   "source": [
    "## Overview\n",
    "If you have an introductory paragraph, lead with it here! Keep it short and tied to your material, then be sure to continue into the required list of topics below,\n",
    "\n",
    "1. This is a numbered list of the specific topics\n",
    "1. These should map approximately to your main sections of content\n",
    "1. Or each second-level, `##`, header in your notebook\n",
    "1. Keep the size and scope of your notebook in check\n",
    "1. And be sure to let the reader know up front the important concepts they'll be leaving with"
   ]
  },
  {
   "cell_type": "markdown",
   "metadata": {},
   "source": [
    "## Prerequisites\n",
    "This section was inspired by [this template](https://github.com/alan-turing-institute/the-turing-way/blob/master/book/templates/chapter-template/chapter-landing-page.md) of the wonderful [The Turing Way](https://the-turing-way.netlify.app) Jupyter Book.\n",
    "\n",
    "Following your overview, tell your reader what concepts, packages, or other background information they'll **need** before learning your material. Tie this explicitly with links to other pages here in Foundations or to relevant external resources. Remove this body text, then populate the Markdown table, denoted in this cell with `|` vertical brackets, below, and fill out the information following. In this table, lay out prerequisite concepts by explicitly linking to other Foundations material or external resources, or describe generally helpful concepts.\n",
    "\n",
    "Label the importance of each concept explicitly as **helpful/necessary**.\n",
    "\n",
    "| Concepts | Importance | Notes |\n",
    "| --- | --- | --- |\n",
    "| [Intro to Cartopy](https://foundations.projectpythia.org/core/cartopy/cartopy) | Necessary | |\n",
    "| [Understanding of NetCDF](https://foundations.projectpythia.org/core/data-formats/netcdf-cf) | Helpful | Familiarity with metadata structure |\n",
    "| Project management | Helpful | |\n",
    "\n",
    "- **Time to learn**: estimate in minutes. For a rough idea, use 5 mins per subsection, 10 if longer; add these up for a total. Safer to round up and overestimate.\n",
    "- **System requirements**:\n",
    "    - Populate with any system, version, or non-Python software requirements if necessary\n",
    "    - Otherwise use the concepts table above and the Imports section below to describe required packages as necessary\n",
    "    - If no extra requirements, remove the **System requirements** point altogether"
   ]
  },
  {
   "cell_type": "markdown",
   "metadata": {},
   "source": [
    "---"
   ]
  },
  {
   "cell_type": "markdown",
   "metadata": {},
   "source": [
    "## Imports\n",
    "Begin your body of content with another `---` divider before continuing into this section, then remove this body text and populate the following code cell with all necessary Python imports **up-front**:"
   ]
  },
  {
   "cell_type": "code",
   "metadata": {},
   "source": [
    "import plotly.graph_objects as go\n",
    "from plotly.subplots import make_subplots"
   ],
   "outputs": [],
   "execution_count": null
  },
  {
   "cell_type": "markdown",
   "metadata": {},
   "source": "## Visualization"
  },
  {
   "cell_type": "markdown",
   "metadata": {},
   "source": [
    "This is where you begin your first section of material, loosely tied to your objectives stated up front. Tie together your notebook as a narrative, with interspersed Markdown text, images, and more as necessary,"
   ]
  },
  {
   "metadata": {},
   "cell_type": "code",
   "source": [
    "def plot_synchronized_heatmaps(\n",
    "        matrix1,\n",
    "        correlated_variable,\n",
    "        title_sonar: str = \"Sonar Data\",\n",
    "        title_correlation_variables: str = \"Correlated Variable: Sea Surface Temperature\",\n",
    "        colorscale1: str = \"Blues_r\",\n",
    "):\n",
    "\n",
    "\n",
    "    # --- Create Subplots ---\n",
    "    fig = make_subplots(\n",
    "        rows=2, cols=1,\n",
    "        shared_xaxes=True,\n",
    "        shared_yaxes=False,\n",
    "        vertical_spacing=0.03\n",
    "    )\n",
    "\n",
    "    # --- Colorbar layout ---\n",
    "\n",
    "    cb_len1, cb_y1 = 0.45, 0.775\n",
    "    # cb_len2, cb_y2 = 0.45, 0.225\n",
    "    # sv = matrix1.Sv.head(5000).values\n",
    "    sv = matrix1.Sv.values\n",
    "    # --- Add Subplots ---\n",
    "    fig.add_trace(\n",
    "        go.Scatter(x=correlated_variable, y=correlated_variable),\n",
    "        row=1, col=1\n",
    "    )\n",
    "    fig.add_trace(\n",
    "        go.Heatmap(\n",
    "            z=sv.astype(int),\n",
    "            colorscale=colorscale1,\n",
    "            zmin=sv.min(),\n",
    "            zmax=sv.max(),\n",
    "            colorbar_len=cb_len1,\n",
    "            colorbar_y=cb_y1,\n",
    "            name=title_sonar,\n",
    "            showscale=True,\n",
    "            x=matrix1.time.values,\n",
    "            y=matrix1.depth.values,\n",
    "        ),\n",
    "        row=2, col=1\n",
    "    )\n",
    "    # --- Layout Titles ---\n",
    "    fig.update_layout(\n",
    "        title_text=\"Signal Correlation\",\n",
    "        title_x=0.5,\n",
    "        # yaxis_title=title_correlation_variables,\n",
    "        # yaxis2_title=title_sonar,\n",
    "        yaxis2_autorange='reversed',\n",
    "        # yaxis2_autorange='reversed'\n",
    "    )\n",
    "\n",
    "    # --- Explicit Axis Matching for Zoom Synchronization ---\n",
    "    fig.update_layout(\n",
    "        xaxis=dict(matches='x'),\n",
    "        xaxis2=dict(matches='x'),\n",
    "        # yaxis=dict(matches='y'),\n",
    "        # yaxis2=dict(matches='y'),\n",
    "    )\n",
    "\n",
    "    fig.show()\n",
    "    print(\"figure printed.\")\n",
    "# print(df[\"sst\"])\n",
    "plot_synchronized_heatmaps(matrix1=cruise, correlated_variable=df[\"sst\"])"
   ],
   "outputs": [],
   "execution_count": null
  },
  {
   "cell_type": "markdown",
   "metadata": {},
   "source": [
    "---"
   ]
  }
 ],
 "metadata": {
  "kernelspec": {
   "display_name": "Python 3 (ipykernel)",
   "language": "python",
   "name": "python3"
  },
  "language_info": {
   "codemirror_mode": {
    "name": "ipython",
    "version": 3
   },
   "file_extension": ".py",
   "mimetype": "text/x-python",
   "name": "python",
   "nbconvert_exporter": "python",
   "pygments_lexer": "ipython3",
   "version": "3.10.13"
  },
  "nbdime-conflicts": {
   "local_diff": [
    {
     "diff": [
      {
       "diff": [
        {
         "key": 0,
         "op": "addrange",
         "valuelist": [
          "Python 3"
         ]
        },
        {
         "key": 0,
         "length": 1,
         "op": "removerange"
        }
       ],
       "key": "display_name",
       "op": "patch"
      }
     ],
     "key": "kernelspec",
     "op": "patch"
    }
   ],
   "remote_diff": [
    {
     "diff": [
      {
       "diff": [
        {
         "key": 0,
         "op": "addrange",
         "valuelist": [
          "Python3"
         ]
        },
        {
         "key": 0,
         "length": 1,
         "op": "removerange"
        }
       ],
       "key": "display_name",
       "op": "patch"
      }
     ],
     "key": "kernelspec",
     "op": "patch"
    }
   ]
  },
  "toc-autonumbering": false
 },
 "nbformat": 4,
 "nbformat_minor": 4
}
