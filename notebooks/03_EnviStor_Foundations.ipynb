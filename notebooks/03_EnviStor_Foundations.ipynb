{
 "cells": [
  {
   "cell_type": "markdown",
   "id": "ff23a7f0",
   "metadata": {},
   "source": [
    "# Exploring Salinity Patterns in South Florida Coastal Waters"
   ]
  },
  {
   "cell_type": "markdown",
   "id": "83e66dd7",
   "metadata": {},
   "source": [
    "This notebook introduces a user-facing science workflow that explores **salinity patterns in South Florida** using curated buoy data published through the **EnviStor smart data pipeline** and made accessible via **OSDF** using **PelicanFS**.\n",
    "\n",
    "EnviStor is an AI-assisted, modular data pipeline developed at Florida International University (FIU) to process and publish environmental datasets. It automates tasks like file type detection, metadata generation, geospatial transformations, and dataset publication. For this use case, EnviStor ingested buoy data, processed and cleaned it, and published it through the OSDF federation, making it available to science users via PelicanFS.\n",
    "\n",
    "In this chapter, we use that curated data to answer the question:\n",
    "**“What are the salinity patterns in South Florida?”**\n"
   ]
  },
  {
   "cell_type": "markdown",
   "id": "d76c11ad",
   "metadata": {},
   "source": [
    "## What is Salinity?\n",
    "\n",
    "**Salinity** is a measure of how much salt is dissolved in water. It’s typically measured in **Practical Salinity Units (PSU)**, which approximate parts per thousand.\n",
    "\n",
    "Salinity is an essential parameter in understanding water quality, ocean circulation, and ecosystem dynamics. High salinity may indicate saltwater intrusion in coastal environments, which can affect drinking water sources and aquatic habitats.\n"
   ]
  },
  {
   "cell_type": "markdown",
   "id": "027d1326",
   "metadata": {},
   "source": [
    "## Why South Florida?\n",
    "\n",
    "South Florida is particularly sensitive to salinity changes due to its mix of freshwater inflows, tidal dynamics, sea level rise, and storm surge events. Monitoring salinity helps scientists detect:\n",
    "- Saltwater intrusion into aquifers\n",
    "- Seasonal or storm-related shifts in water quality\n",
    "- Long-term climate-driven changes\n"
   ]
  },
  {
   "cell_type": "markdown",
   "id": "ccf17d7f",
   "metadata": {},
   "source": [
    "## About the Dataset\n",
    "\n",
    "This dataset comes from FIU’s **CREST buoy network**, which continuously measures water quality parameters including salinity, temperature, turbidity, and more.\n",
    "\n",
    "For this analysis, we selected three stations:\n",
    "- **Buoy 2**: NW Biscayne Bay\n",
    "- **Buoy 3**: Haulover Inlet\n",
    "- **Buoy 3-2**: Little River\n",
    "\n",
    "These datasets were processed through the **EnviStor smart pipeline**, which cleaned, standardized, and published them into the **Open Science Data Federation (OSDF)**. The data is now directly accessible using **PelicanFS**, a high-performance data access layer.\n"
   ]
  },
  {
   "cell_type": "markdown",
   "id": "2e61f416",
   "metadata": {},
   "source": [
    "## Where Is the Data Stored?\n",
    "\n",
    "The curated data is stored in the `/envistor` namespace of OSDF and can be accessed using **PelicanFS**, either through direct mount points or via HTTP. In the next notebook, we will demonstrate how to access this data for analysis."
   ]
  },
  {
   "cell_type": "markdown",
   "id": "ab119f9e",
   "metadata": {},
   "source": [
    "## Research Question\n",
    "\n",
    "We aim to explore:  \n",
    "**\"How does water salinity vary across time and space in South Florida coastal waters?\"**\n",
    "\n",
    "This will help us understand patterns related to seasonality, freshwater discharge, and saltwater intrusion.\n"
   ]
  },
  {
   "cell_type": "markdown",
   "id": "3fa88196",
   "metadata": {},
   "source": [
    "## What’s Next?\n",
    "\n",
    "In the next notebook, we will:\n",
    "- Load salinity data from three buoy stations via PelicanFS\n",
    "- Clean and organize the time series\n",
    "- Plot salinity trends by station\n",
    "- Compare locations to uncover spatial and temporal differences\n"
   ]
  }
 ],
 "metadata": {
  "kernelspec": {
   "display_name": "Python 3 (ipykernel)",
   "language": "python",
   "name": "python3"
  },
  "language_info": {
   "codemirror_mode": {
    "name": "ipython",
    "version": 3
   },
   "file_extension": ".py",
   "mimetype": "text/x-python",
   "name": "python",
   "nbconvert_exporter": "python",
   "pygments_lexer": "ipython3",
   "version": "3.12.8"
  }
 },
 "nbformat": 4,
 "nbformat_minor": 5
}
