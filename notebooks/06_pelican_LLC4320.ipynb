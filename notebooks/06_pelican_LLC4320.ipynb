{
 "cells": [
  {
   "cell_type": "markdown",
   "id": "1d58cf51-9724-48d1-8743-48bd2a6b48be",
   "metadata": {},
   "source": [
    "**LLC4320**, a product of <a href=\"https://ecco-group.org/home.htm\">```Estimating the Circulation and Climate of the Ocean (ECCO)```</a> project, is the product of a 14-month simulation of ocean circulation and dynamics using MITgcm model. This simulation is similar to the ocean portion of the DYAMOND coupled simulation but was run with half the horizontal grid spacing ($4\\times$ the cell count) and with ocean surface boundary values derived from observations and physical models. The model output has five 3D and thirteen 2D fields, including temperature, salinity, three velocity components, sea ice, and radiation. This massive dataset is 2.8 PB."
   ]
  },
  {
   "cell_type": "markdown",
   "id": "ff5edf9e-1b2c-4e4f-bbac-70c0d7554e29",
   "metadata": {},
   "source": [
    " This notebook provide the instructions on how to read the LLC4320 data from the OSDF/Pelican using OpenVisus framework.\n",
    " Visit <a href= \"https://osg-htc.org/services/osdf/data?repository=nasa-nsdf-climate1\">OSDF webpage </a> for information on the data hosted. "
   ]
  },
  {
   "cell_type": "markdown",
   "id": "3ba0b27c-cda7-4c59-935d-50b7766303a4",
   "metadata": {},
   "source": [
    "# **Step 1: Importing the libraries**"
   ]
  },
  {
   "cell_type": "code",
   "execution_count": 1,
   "id": "c9e182d7",
   "metadata": {
    "tags": []
   },
   "outputs": [],
   "source": [
    "import numpy as np\n",
    "import openvisuspy as ovp\n",
    "import matplotlib.pyplot as plt"
   ]
  },
  {
   "cell_type": "markdown",
   "id": "b5047424-1db9-49eb-a882-77637e0adaaf",
   "metadata": {},
   "source": [
    "### The section below shows different LLC4320 fields we have available in cloud. Each field is >400TB."
   ]
  },
  {
   "cell_type": "code",
   "execution_count": 2,
   "id": "0beb0914-f701-4cbc-9440-d1a9183e1ab1",
   "metadata": {
    "tags": []
   },
   "outputs": [],
   "source": [
    "temperature=\"pelican://osg-htc.org/nasa/nsdf/climate1/llc4320/idx/theta/theta_llc4320_x_y_depth.idx\"\n",
    "\n",
    "salinity=\"pelican://osg-htc.org/nasa/nsdf/climate1/llc4320/idx/salt/salt_llc4320_x_y_depth.idx\"\n",
    "\n",
    "vertical_velocity=\"pelican://osg-htc.org/nasa/nsdf/climate2/llc4320/idx/w/w_llc4320_x_y_depth.idx\""
   ]
  },
  {
   "cell_type": "markdown",
   "id": "79a02fb9-abd7-4168-9f2d-6700c10d8eba",
   "metadata": {
    "tags": []
   },
   "source": [
    "## **Step 2: Reading the metadata file from cloud**\n",
    "In this section, you can select any variables that you can declared in the cells above and replace it inside `LoadDataset`. We are just reading the metadata for the dataset here."
   ]
  },
  {
   "cell_type": "code",
   "execution_count": null,
   "id": "472f1b60-217f-4f50-96c5-2e079d53559a",
   "metadata": {
    "tags": []
   },
   "outputs": [],
   "source": [
    "db=ovp.LoadDataset(temperature)\n",
    "print(f'Dimensions: {db.getLogicBox()[1][0]}*{db.getLogicBox()[1][1]}*{db.getLogicBox()[1][2]}')\n",
    "print(f'Total Timesteps: {len(db.getTimesteps())}')\n",
    "print(f'Field: {db.getField().name}')\n",
    "print('Data Type: float32')"
   ]
  },
  {
   "cell_type": "markdown",
   "id": "ebe3db04-4720-4e1c-856e-e962d4dda777",
   "metadata": {
    "tags": []
   },
   "source": [
    "## **Step 3:  Data Selection**\n",
    "This section shows you how to load the data you want. You can select any timestep, region (x,y,z) you want. You can set the quality or resolution of the data as well. Higher quality means the finer(more) data. Not setting any time means first timestep available. Not setting quality means full data which takes a while to load because of the higher filesize.  Since each timestep is >30GB, I am only selecting 1 level out of 90."
   ]
  },
  {
   "cell_type": "code",
   "execution_count": null,
   "id": "38ac03df",
   "metadata": {
    "tags": []
   },
   "outputs": [],
   "source": [
    "data=db.db.read(time=0,z=[0,1],quality=-4) #Since each timestep is >30GB, I am only selecting 1 level out of 90.\n",
    "data.shape"
   ]
  },
  {
   "cell_type": "markdown",
   "id": "db8a4846-f9ad-44a7-a39d-c1e2d28717b9",
   "metadata": {},
   "source": [
    "## **Step 4:  Visualize the data**\n",
    "We are using a simple matplotlib here, but since the data is in numpy array, it can loaded with any python modules that support numpy. Feel free to set the `vmin`,`vmax` appropriately."
   ]
  },
  {
   "cell_type": "code",
   "execution_count": null,
   "id": "c58133a1",
   "metadata": {
    "tags": []
   },
   "outputs": [],
   "source": [
    "fig,axes=plt.subplots(1,1,figsize=(12,8))\n",
    "im= axes.imshow(data[0,:,:], aspect='auto',origin='lower',cmap='turbo')\n",
    "cbar = plt.colorbar(im, ax=axes)\n",
    "cbar.set_label('Temperature (deg. C)')\n",
    "plt.show()\n"
   ]
  },
  {
   "cell_type": "markdown",
   "id": "25eabbf6-5e69-4cca-9b19-4bf4f39e2c9b",
   "metadata": {},
   "source": [
    "## **But, what if you want to see the full data for a certain region at a certain depth?**\n",
    "Just set the right x,y,z while reading the data. x and y are the bounding box, z is the depth/layer. "
   ]
  },
  {
   "cell_type": "code",
   "execution_count": null,
   "id": "9a0c0f96-6a3e-4fbb-8fd7-04fda1096ff5",
   "metadata": {
    "tags": []
   },
   "outputs": [],
   "source": [
    "data1=db.db.read(time=1,z=[0,1],quality=-6,x=[500,2500],y=[8500,11000])\n",
    "plt.imshow(data1[0,:,:], origin='lower',cmap='turbo')\n",
    "plt.colorbar()"
   ]
  },
  {
   "cell_type": "code",
   "execution_count": null,
   "id": "4a0cd78a-0fa5-446c-b128-dea99c1035b6",
   "metadata": {},
   "outputs": [],
   "source": [
    "data1.shape #"
   ]
  },
  {
   "cell_type": "markdown",
   "id": "5fb5dfb4-4cb5-4b1f-883d-dc51ab629ebe",
   "metadata": {},
   "source": [
    "# **Step 5: Save the data for the region locally**\n",
    "You can save the data locally as you want. For example, here we are only saving the region shown above as a numpy array."
   ]
  },
  {
   "cell_type": "code",
   "execution_count": null,
   "id": "6f72dc90-87e3-4e20-a25c-d367b56a89b1",
   "metadata": {
    "tags": []
   },
   "outputs": [],
   "source": [
    "np.save('test_region.npy', data1)"
   ]
  },
  {
   "cell_type": "markdown",
   "id": "991db680-b5a2-46eb-a945-0f553092d7d3",
   "metadata": {
    "tags": []
   },
   "source": [
    "# **Step 6: Load the locally saved region and visualize using matplotlib**"
   ]
  },
  {
   "cell_type": "code",
   "execution_count": null,
   "id": "07f1196a-cda1-4ac4-ba46-bd56a1121ffe",
   "metadata": {
    "tags": []
   },
   "outputs": [],
   "source": [
    "local_data=np.load('test_region.npy')\n",
    "plt.imshow(local_data[0,:,:], origin='lower',cmap='turbo')\n",
    "plt.colorbar()"
   ]
  },
  {
   "cell_type": "markdown",
   "id": "65fbaaaf-4831-4cd0-9d66-580ed7ee756e",
   "metadata": {},
   "source": [
    "# **Step 7: Horizontal Slicing**"
   ]
  },
  {
   "cell_type": "code",
   "execution_count": null,
   "id": "47f8ba28-07f7-4eb3-975a-38c38a48017e",
   "metadata": {},
   "outputs": [],
   "source": [
    "data1=db.db.read(time=1,x=[500,2500],y=[10500,10501])\n",
    "data1.shape\n"
   ]
  },
  {
   "cell_type": "code",
   "execution_count": null,
   "id": "aecf2584-43f9-4b3a-9979-e1bbac626f4f",
   "metadata": {},
   "outputs": [],
   "source": [
    "plt.figure(figsize=(14,8))\n",
    "plt.imshow(data1[:,0,:],cmap='turbo')\n",
    "# plt.colorbar()"
   ]
  },
  {
   "cell_type": "markdown",
   "id": "d4c13ced-3fc0-406f-8ee4-d8455737e278",
   "metadata": {},
   "source": [
    "### *Please reach out to Aashish Panta, Giorgio Scorzelli or Valerio Pascucci for any concerns about the notebook. Thank you!*\n",
    "- Aashish Panta (aashishpanta0@gmail.com)\n",
    "- Giorgio Scorzelli (scrgiorgio@gmail.com)\n",
    "- Valerio Pascucci (pascucci.valerio@gmail.com)"
   ]
  }
 ],
 "metadata": {
  "kernelspec": {
   "display_name": "Python 3 (ipykernel)",
   "language": "python",
   "name": "python3"
  },
  "language_info": {
   "codemirror_mode": {
    "name": "ipython",
    "version": 3
   },
   "file_extension": ".py",
   "mimetype": "text/x-python",
   "name": "python",
   "nbconvert_exporter": "python",
   "pygments_lexer": "ipython3",
   "version": "3.10.16"
  }
 },
 "nbformat": 4,
 "nbformat_minor": 5
}
